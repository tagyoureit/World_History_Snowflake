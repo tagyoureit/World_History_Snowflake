{
 "metadata": {
  "kernelspec": {
   "display_name": "Streamlit Notebook",
   "name": "streamlit"
  },
  "lastEditStatus": {
   "notebookId": "asdjkopals6o435jmncs",
   "authorId": "298846609519",
   "authorName": "RGOLDIN",
   "authorEmail": "russ.goldin@snowflake.com",
   "sessionId": "401e00d7-ee74-49db-9e54-c024bdc0c4e8",
   "lastEditTime": 1754372744580
  }
 },
 "nbformat_minor": 5,
 "nbformat": 4,
 "cells": [
  {
   "cell_type": "markdown",
   "id": "3775908f-ca36-4846-8f38-5adca39217f2",
   "metadata": {
    "name": "cell1",
    "collapsed": false
   },
   "source": "# Setup School District Data\n"
  },
  {
   "cell_type": "code",
   "id": "8d50cbf4-0c8d-4950-86cb-114990437ac9",
   "metadata": {
    "language": "sql",
    "name": "select_db_schema"
   },
   "source": "USE DATABASE WORLD_HISTORY;\nCREATE SCHEMA IF NOT EXISTS SCHOOLS;\nUSE SCHEMA SCHOOLS;",
   "execution_count": null,
   "outputs": []
  },
  {
   "cell_type": "code",
   "id": "c695373e-ac74-4b62-a1f1-08206cbd5c81",
   "metadata": {
    "language": "sql",
    "name": "create_school_tables"
   },
   "source": "-- =====================================================================================\n-- SCHOOL DISTRICTS DATABASE - NORMALIZED DESIGN\n-- Stage 09: Create normalized tables for 5 biggest US cities school district data\n-- =====================================================================================\n\n\n\n-- School district data will be created directly in the public schema (no separate stage needed)\n\n-- =====================================================================================\n-- NORMALIZED TABLE STRUCTURES\n-- =====================================================================================\n\n-- 1. CITIES TABLE\n-- Contains the 5 biggest US cities by population\nCREATE OR REPLACE TABLE cities (\n    city_id INTEGER,\n    city_name VARCHAR(100),\n    state VARCHAR(50),\n    population INTEGER,\n    created_at TIMESTAMP DEFAULT CURRENT_TIMESTAMP()\n);\n\n-- 2. SCHOOL DISTRICTS TABLE  \n-- Contains the largest school district in each city\nCREATE OR REPLACE TABLE school_districts (\n    district_id INTEGER,\n    district_name VARCHAR(200),\n    city_id INTEGER,\n    total_students INTEGER,\n    total_schools INTEGER,\n    created_at TIMESTAMP DEFAULT CURRENT_TIMESTAMP()\n);\n\n-- 3. HIGH SCHOOLS TABLE\n-- Contains 3 high schools from each district (15 total)\nCREATE OR REPLACE TABLE high_schools (\n    school_id INTEGER,\n    school_name VARCHAR(200),\n    district_id INTEGER,\n    school_type VARCHAR(50), -- Regular, Magnet, Charter, etc.\n    enrollment INTEGER,\n    created_at TIMESTAMP DEFAULT CURRENT_TIMESTAMP()\n);\n\n-- 4. TEACHERS TABLE\n-- Contains 3 world history teachers per school (45 total)\nCREATE OR REPLACE TABLE teachers (\n    teacher_id INTEGER,\n    teacher_name VARCHAR(100),\n    school_id INTEGER,\n    subject VARCHAR(50),\n    years_experience INTEGER,\n    education_level VARCHAR(50),\n    created_at TIMESTAMP DEFAULT CURRENT_TIMESTAMP()\n);\n\n-- 5. CLASSES TABLE\n-- Contains 3 world history classes per school (45 total)\nCREATE OR REPLACE TABLE classes (\n    class_id INTEGER,\n    class_name VARCHAR(100),\n    teacher_id INTEGER,\n    school_id INTEGER,\n    period INTEGER,\n    room_number VARCHAR(20),\n    max_capacity INTEGER,\n    created_at TIMESTAMP DEFAULT CURRENT_TIMESTAMP()\n);\n\n-- 6. STUDENTS TABLE\n-- Contains 30 students per class (1,350 total students)\nCREATE OR REPLACE TABLE students (\n    student_id INTEGER,\n    student_name VARCHAR(100),\n    class_id INTEGER,\n    grade_level INTEGER,\n    age INTEGER,\n    gender VARCHAR(10),\n    enrollment_date DATE,\n    created_at TIMESTAMP DEFAULT CURRENT_TIMESTAMP()\n);\n",
   "execution_count": null,
   "outputs": []
  },
  {
   "cell_type": "code",
   "id": "e660fb46-b7f7-43f9-80aa-25eb88ffc1a2",
   "metadata": {
    "language": "sql",
    "name": "insert_school_data"
   },
   "outputs": [],
   "source": "\n-- =====================================================================================\n-- DATA INSERTION\n-- =====================================================================================\n\n-- Insert Cities Data\nINSERT INTO cities VALUES\n(1, 'New York City', 'New York', 8500000, CURRENT_TIMESTAMP()),\n(2, 'Los Angeles', 'California', 3900000, CURRENT_TIMESTAMP()),\n(3, 'Chicago', 'Illinois', 2700000, CURRENT_TIMESTAMP()),\n(4, 'Houston', 'Texas', 2300000, CURRENT_TIMESTAMP()),\n(5, 'Phoenix', 'Arizona', 1700000, CURRENT_TIMESTAMP());\n\n-- Insert School Districts Data\nINSERT INTO school_districts VALUES\n(1, 'New York City Department of Education', 1, 1100000, 1800, CURRENT_TIMESTAMP()),\n(2, 'Los Angeles Unified School District', 2, 565000, 1300, CURRENT_TIMESTAMP()),\n(3, 'Chicago Public Schools', 3, 330000, 650, CURRENT_TIMESTAMP()),\n(4, 'Houston Independent School District', 4, 190000, 280, CURRENT_TIMESTAMP()),\n(5, 'Phoenix Union High School District', 5, 28000, 22, CURRENT_TIMESTAMP());\n\n-- Insert High Schools Data (3 per district)\nINSERT INTO high_schools VALUES\n-- NYC Schools\n(1, 'Stuyvesant High School', 1, 'Specialized', 3300, CURRENT_TIMESTAMP()),\n(2, 'Bronx High School of Science', 1, 'Specialized', 3000, CURRENT_TIMESTAMP()),\n(3, 'Brooklyn Technical High School', 1, 'Specialized', 5400, CURRENT_TIMESTAMP()),\n\n-- LA Schools  \n(4, 'Garfield High School', 2, 'Regular', 2800, CURRENT_TIMESTAMP()),\n(5, 'Hollywood High School', 2, 'Magnet', 2100, CURRENT_TIMESTAMP()),\n(6, 'Lincoln High School', 2, 'Regular', 3200, CURRENT_TIMESTAMP()),\n\n-- Chicago Schools\n(7, 'Whitney Young Magnet High School', 3, 'Selective Enrollment', 2200, CURRENT_TIMESTAMP()),\n(8, 'Lane Tech College Prep High School', 3, 'Selective Enrollment', 4400, CURRENT_TIMESTAMP()),\n(9, 'Jones College Prep High School', 3, 'Selective Enrollment', 1800, CURRENT_TIMESTAMP()),\n\n-- Houston Schools\n(10, 'Bellaire High School', 4, 'Regular', 3600, CURRENT_TIMESTAMP()),\n(11, 'Lamar High School', 4, 'Regular', 3100, CURRENT_TIMESTAMP()),\n(12, 'Carnegie Vanguard High School', 4, 'Magnet', 1200, CURRENT_TIMESTAMP()),\n\n-- Phoenix Schools\n(13, 'Central High School', 5, 'Regular', 1800, CURRENT_TIMESTAMP()),\n(14, 'Skyline High School', 5, 'Regular', 2400, CURRENT_TIMESTAMP()),\n(15, 'Peoria High School', 5, 'Regular', 2900, CURRENT_TIMESTAMP());\n\n-- Insert Teachers Data (3 world history teachers per school)\nINSERT INTO teachers VALUES\n-- NYC Teachers (Schools 1-3)\n(1, 'Sarah Johnson', 1, 'World History', 12, 'Masters', CURRENT_TIMESTAMP()),\n(2, 'Michael Chen', 1, 'World History', 8, 'Masters', CURRENT_TIMESTAMP()),\n(3, 'Rebecca Martinez', 1, 'World History', 15, 'Masters', CURRENT_TIMESTAMP()),\n(4, 'David Thompson', 2, 'World History', 10, 'Masters', CURRENT_TIMESTAMP()),\n(5, 'Lisa Wang', 2, 'World History', 6, 'Bachelors', CURRENT_TIMESTAMP()),\n(6, 'James Rodriguez', 2, 'World History', 14, 'Masters', CURRENT_TIMESTAMP()),\n(7, 'Amanda Foster', 3, 'World History', 9, 'Masters', CURRENT_TIMESTAMP()),\n(8, 'Robert Kim', 3, 'World History', 11, 'Masters', CURRENT_TIMESTAMP()),\n(9, 'Jennifer Lopez', 3, 'World History', 7, 'Bachelors', CURRENT_TIMESTAMP()),\n\n-- LA Teachers (Schools 4-6)\n(10, 'Carlos Gutierrez', 4, 'World History', 13, 'Masters', CURRENT_TIMESTAMP()),\n(11, 'Michelle Davis', 4, 'World History', 5, 'Bachelors', CURRENT_TIMESTAMP()),\n(12, 'Anthony Wilson', 4, 'World History', 16, 'Doctorate', CURRENT_TIMESTAMP()),\n(13, 'Maria Hernandez', 5, 'World History', 8, 'Masters', CURRENT_TIMESTAMP()),\n(14, 'Kevin Park', 5, 'World History', 12, 'Masters', CURRENT_TIMESTAMP()),\n(15, 'Rachel Green', 5, 'World History', 4, 'Bachelors', CURRENT_TIMESTAMP()),\n(16, 'Daniel Lee', 6, 'World History', 10, 'Masters', CURRENT_TIMESTAMP()),\n(17, 'Nicole Brown', 6, 'World History', 14, 'Masters', CURRENT_TIMESTAMP()),\n(18, 'Steven Garcia', 6, 'World History', 7, 'Bachelors', CURRENT_TIMESTAMP()),\n\n-- Chicago Teachers (Schools 7-9)\n(19, 'Emily Anderson', 7, 'World History', 11, 'Masters', CURRENT_TIMESTAMP()),\n(20, 'Matthew Taylor', 7, 'World History', 9, 'Masters', CURRENT_TIMESTAMP()),\n(21, 'Ashley Miller', 7, 'World History', 6, 'Bachelors', CURRENT_TIMESTAMP()),\n(22, 'Brian Jackson', 8, 'World History', 15, 'Doctorate', CURRENT_TIMESTAMP()),\n(23, 'Samantha White', 8, 'World History', 8, 'Masters', CURRENT_TIMESTAMP()),\n(24, 'Christopher Moore', 8, 'World History', 12, 'Masters', CURRENT_TIMESTAMP()),\n(25, 'Jessica Clark', 9, 'World History', 5, 'Bachelors', CURRENT_TIMESTAMP()),\n(26, 'Ryan Lewis', 9, 'World History', 13, 'Masters', CURRENT_TIMESTAMP()),\n(27, 'Lauren Adams', 9, 'World History', 10, 'Masters', CURRENT_TIMESTAMP()),\n\n-- Houston Teachers (Schools 10-12)\n(28, 'Mark Turner', 10, 'World History', 14, 'Masters', CURRENT_TIMESTAMP()),\n(29, 'Stephanie Phillips', 10, 'World History', 7, 'Bachelors', CURRENT_TIMESTAMP()),\n(30, 'Joseph Campbell', 10, 'World History', 11, 'Masters', CURRENT_TIMESTAMP()),\n(31, 'Melissa Parker', 11, 'World History', 9, 'Masters', CURRENT_TIMESTAMP()),\n(32, 'William Evans', 11, 'World History', 16, 'Doctorate', CURRENT_TIMESTAMP()),\n(33, 'Kimberly Scott', 11, 'World History', 6, 'Bachelors', CURRENT_TIMESTAMP()),\n(34, 'Thomas Roberts', 12, 'World History', 12, 'Masters', CURRENT_TIMESTAMP()),\n(35, 'Heather Carter', 12, 'World History', 8, 'Masters', CURRENT_TIMESTAMP()),\n(36, 'Jason Mitchell', 12, 'World History', 10, 'Masters', CURRENT_TIMESTAMP()),\n\n-- Phoenix Teachers (Schools 13-15)\n(37, 'Andrea Perez', 13, 'World History', 13, 'Masters', CURRENT_TIMESTAMP()),\n(38, 'Gregory Hall', 13, 'World History', 5, 'Bachelors', CURRENT_TIMESTAMP()),\n(39, 'Vanessa Young', 13, 'World History', 15, 'Doctorate', CURRENT_TIMESTAMP()),\n(40, 'Scott Hernandez', 14, 'World History', 9, 'Masters', CURRENT_TIMESTAMP()),\n(41, 'Brittany King', 14, 'World History', 7, 'Bachelors', CURRENT_TIMESTAMP()),\n(42, 'Nathan Wright', 14, 'World History', 14, 'Masters', CURRENT_TIMESTAMP()),\n(43, 'Crystal Lopez', 15, 'World History', 11, 'Masters', CURRENT_TIMESTAMP()),\n(44, 'Derek Hill', 15, 'World History', 6, 'Bachelors', CURRENT_TIMESTAMP()),\n(45, 'Tiffany Green', 15, 'World History', 12, 'Masters', CURRENT_TIMESTAMP());\n\n-- Insert Classes Data (3 world history classes per school, 1 per teacher)\nINSERT INTO classes VALUES\n-- NYC Classes (Schools 1-3)\n(1, 'World History Period 1', 1, 1, 1, 'A101', 30, CURRENT_TIMESTAMP()),\n(2, 'World History Period 3', 2, 1, 3, 'A102', 30, CURRENT_TIMESTAMP()),\n(3, 'World History Period 5', 3, 1, 5, 'A103', 30, CURRENT_TIMESTAMP()),\n(4, 'World History Period 2', 4, 2, 2, 'B201', 30, CURRENT_TIMESTAMP()),\n(5, 'World History Period 4', 5, 2, 4, 'B202', 30, CURRENT_TIMESTAMP()),\n(6, 'World History Period 6', 6, 2, 6, 'B203', 30, CURRENT_TIMESTAMP()),\n(7, 'World History Period 1', 7, 3, 1, 'C301', 30, CURRENT_TIMESTAMP()),\n(8, 'World History Period 3', 8, 3, 3, 'C302', 30, CURRENT_TIMESTAMP()),\n(9, 'World History Period 5', 9, 3, 5, 'C303', 30, CURRENT_TIMESTAMP()),\n\n-- LA Classes (Schools 4-6)\n(10, 'World History Period 2', 10, 4, 2, 'D401', 30, CURRENT_TIMESTAMP()),\n(11, 'World History Period 4', 11, 4, 4, 'D402', 30, CURRENT_TIMESTAMP()),\n(12, 'World History Period 6', 12, 4, 6, 'D403', 30, CURRENT_TIMESTAMP()),\n(13, 'World History Period 1', 13, 5, 1, 'E501', 30, CURRENT_TIMESTAMP()),\n(14, 'World History Period 3', 14, 5, 3, 'E502', 30, CURRENT_TIMESTAMP()),\n(15, 'World History Period 5', 15, 5, 5, 'E503', 30, CURRENT_TIMESTAMP()),\n(16, 'World History Period 2', 16, 6, 2, 'F601', 30, CURRENT_TIMESTAMP()),\n(17, 'World History Period 4', 17, 6, 4, 'F602', 30, CURRENT_TIMESTAMP()),\n(18, 'World History Period 6', 18, 6, 6, 'F603', 30, CURRENT_TIMESTAMP()),\n\n-- Chicago Classes (Schools 7-9)\n(19, 'World History Period 1', 19, 7, 1, 'G701', 30, CURRENT_TIMESTAMP()),\n(20, 'World History Period 3', 20, 7, 3, 'G702', 30, CURRENT_TIMESTAMP()),\n(21, 'World History Period 5', 21, 7, 5, 'G703', 30, CURRENT_TIMESTAMP()),\n(22, 'World History Period 2', 22, 8, 2, 'H801', 30, CURRENT_TIMESTAMP()),\n(23, 'World History Period 4', 23, 8, 4, 'H802', 30, CURRENT_TIMESTAMP()),\n(24, 'World History Period 6', 24, 8, 6, 'H803', 30, CURRENT_TIMESTAMP()),\n(25, 'World History Period 1', 25, 9, 1, 'I901', 30, CURRENT_TIMESTAMP()),\n(26, 'World History Period 3', 26, 9, 3, 'I902', 30, CURRENT_TIMESTAMP()),\n(27, 'World History Period 5', 27, 9, 5, 'I903', 30, CURRENT_TIMESTAMP()),\n\n-- Houston Classes (Schools 10-12)\n(28, 'World History Period 2', 28, 10, 2, 'J1001', 30, CURRENT_TIMESTAMP()),\n(29, 'World History Period 4', 29, 10, 4, 'J1002', 30, CURRENT_TIMESTAMP()),\n(30, 'World History Period 6', 30, 10, 6, 'J1003', 30, CURRENT_TIMESTAMP()),\n(31, 'World History Period 1', 31, 11, 1, 'K1101', 30, CURRENT_TIMESTAMP()),\n(32, 'World History Period 3', 32, 11, 3, 'K1102', 30, CURRENT_TIMESTAMP()),\n(33, 'World History Period 5', 33, 11, 5, 'K1103', 30, CURRENT_TIMESTAMP()),\n(34, 'World History Period 2', 34, 12, 2, 'L1201', 30, CURRENT_TIMESTAMP()),\n(35, 'World History Period 4', 35, 12, 4, 'L1202', 30, CURRENT_TIMESTAMP()),\n(36, 'World History Period 6', 36, 12, 6, 'L1203', 30, CURRENT_TIMESTAMP()),\n\n-- Phoenix Classes (Schools 13-15)\n(37, 'World History Period 1', 37, 13, 1, 'M1301', 30, CURRENT_TIMESTAMP()),\n(38, 'World History Period 3', 38, 13, 3, 'M1302', 30, CURRENT_TIMESTAMP()),\n(39, 'World History Period 5', 39, 13, 5, 'M1303', 30, CURRENT_TIMESTAMP()),\n(40, 'World History Period 2', 40, 14, 2, 'N1401', 30, CURRENT_TIMESTAMP()),\n(41, 'World History Period 4', 41, 14, 4, 'N1402', 30, CURRENT_TIMESTAMP()),\n(42, 'World History Period 6', 42, 14, 6, 'N1403', 30, CURRENT_TIMESTAMP()),\n(43, 'World History Period 1', 43, 15, 1, 'O1501', 30, CURRENT_TIMESTAMP()),\n(44, 'World History Period 3', 44, 15, 3, 'O1502', 30, CURRENT_TIMESTAMP()),\n(45, 'World History Period 5', 45, 15, 5, 'O1503', 30, CURRENT_TIMESTAMP());\n",
   "execution_count": null
  },
  {
   "cell_type": "code",
   "id": "953e557d-f61e-4188-8c1c-144cfbb08a0b",
   "metadata": {
    "language": "sql",
    "name": "generate_student_data"
   },
   "outputs": [],
   "source": "\n-- =====================================================================================\n-- GENERATE STUDENT DATA \n-- Note: This is a partial sample - the full dataset would have 30 students per class\n-- =====================================================================================\n\n-- Generate all 1,350 students with systematic unique naming pattern\n-- 45 classes × 30 students per class = 1,350 total students\n\nINSERT INTO students (student_id, student_name, class_id, grade_level, age, gender, enrollment_date, created_at)\nWITH student_generator AS (\n    SELECT \n        c.class_id,\n        sd.district_id,\n        hs.school_id,\n        ROW_NUMBER() OVER (ORDER BY c.class_id) as class_seq,\n        sd.district_name,\n        hs.school_name\n    FROM classes c\n    JOIN high_schools hs ON c.school_id = hs.school_id\n    JOIN school_districts sd ON hs.district_id = sd.district_id\n),\nstudent_numbers AS (\n    SELECT \n        SEQ4() as student_seq\n    FROM TABLE(GENERATOR(ROWCOUNT => 30))\n),\nall_students AS (\n    SELECT \n        ROW_NUMBER() OVER (ORDER BY sg.class_id, sn.student_seq) as student_id,\n        'Student_' || ROW_NUMBER() OVER (ORDER BY sg.class_id, sn.student_seq) || \n        '_D' || sg.district_id || \n        '_S' || sg.school_id || \n        '_C' || sg.class_id as student_name,\n        sg.class_id,\n        CASE WHEN UNIFORM(1,4,RANDOM()) = 1 THEN 9\n             WHEN UNIFORM(1,4,RANDOM()) = 2 THEN 10  \n             WHEN UNIFORM(1,4,RANDOM()) = 3 THEN 11\n             ELSE 12 END as grade_level,\n        CASE WHEN UNIFORM(1,5,RANDOM()) = 1 THEN 14\n             WHEN UNIFORM(1,5,RANDOM()) = 2 THEN 15\n             WHEN UNIFORM(1,5,RANDOM()) = 3 THEN 16\n             WHEN UNIFORM(1,5,RANDOM()) = 4 THEN 17\n             ELSE 18 END as age,\n        CASE WHEN UNIFORM(1,2,RANDOM()) = 1 THEN 'Male' ELSE 'Female' END as gender,\n        '2024-09-01'::DATE as enrollment_date\n    FROM student_generator sg\n    CROSS JOIN student_numbers sn\n)\nSELECT \n    student_id,\n    student_name, \n    class_id,\n    grade_level,\n    age,\n    gender,\n    enrollment_date,\n    CURRENT_TIMESTAMP()\nFROM all_students;\n",
   "execution_count": null
  },
  {
   "cell_type": "code",
   "id": "c904e7a9-27f4-46fd-b09b-f6f48bdee9f8",
   "metadata": {
    "language": "sql",
    "name": "create_view_student_school_complete_vw"
   },
   "outputs": [],
   "source": "\n-- =====================================================================================\n-- CREATE DENORMALIZED VIEW\n-- Single view that joins all tables to show complete student hierarchy\n-- =====================================================================================\n\nCREATE OR REPLACE VIEW student_school_complete_vw AS\nSELECT \n    -- Student Information\n    s.student_id,\n    s.student_name,\n    s.grade_level,\n    s.age,\n    s.gender,\n    s.enrollment_date,\n    \n    -- Class Information\n    c.class_id,\n    c.class_name,\n    c.period,\n    c.room_number,\n    c.max_capacity,\n    \n    -- Teacher Information  \n    t.teacher_id,\n    t.teacher_name,\n    t.subject,\n    t.years_experience,\n    t.education_level,\n    \n    -- School Information\n    hs.school_id,\n    hs.school_name,\n    hs.school_type,\n    hs.enrollment AS school_enrollment,\n    \n    -- District Information\n    sd.district_id,\n    sd.district_name,\n    sd.total_students AS district_total_students,\n    sd.total_schools AS district_total_schools,\n    \n    -- City Information\n    ct.city_id,\n    ct.city_name,\n    ct.state,\n    ct.population AS city_population\n    \nFROM students s\nJOIN classes c ON s.class_id = c.class_id\nJOIN teachers t ON c.teacher_id = t.teacher_id\nJOIN high_schools hs ON c.school_id = hs.school_id\nJOIN school_districts sd ON hs.district_id = sd.district_id\nJOIN cities ct ON sd.city_id = ct.city_id;",
   "execution_count": null
  },
  {
   "cell_type": "code",
   "id": "84550d09-d0b7-466f-b1e6-1e002470b47c",
   "metadata": {
    "language": "sql",
    "name": "cell2"
   },
   "outputs": [],
   "source": "--drop table student_question_responses;",
   "execution_count": null
  },
  {
   "cell_type": "code",
   "id": "f88b285e-6aa9-4dd6-ad3f-56957197e6f9",
   "metadata": {
    "language": "sql",
    "name": "create_test_tables"
   },
   "outputs": [],
   "source": "CREATE TABLE IF NOT EXISTS WORLD_HISTORY_TEST_QUESTIONS (\n    QUESTION_ID NUMBER AUTOINCREMENT PRIMARY KEY,\n    FILEPATH STRING,\n    CHAPTER_NUMBER NUMBER,\n    PAGE_NUMBER NUMBER,\n    QUESTION_NUMBER NUMBER,\n    QUESTION_TEXT STRING,\n    OPTION_A STRING,\n    OPTION_B STRING,\n    OPTION_C STRING,\n    OPTION_D STRING,\n    CORRECT_ANSWER STRING,\n    DIFFICULTY_LEVEL STRING,\n    TOPIC STRING,\n    CREATED_TIMESTAMP TIMESTAMP DEFAULT CURRENT_TIMESTAMP()\n);\n\nCREATE TABLE IF NOT EXISTS TEST_SCHEDULE (\n    SCHEDULE_ID NUMBER AUTOINCREMENT,\n    CLASS_ID NUMBER,\n    TEACHER_ID NUMBER,\n    SCHOOL_ID NUMBER,\n    CHAPTER_NUMBER NUMBER,\n    TEST_ID NUMBER, -- Will link to CHAPTER_TESTS when tests are generated\n    SCHEDULED_DATE DATE,\n    SCHEDULED_WEEK NUMBER, -- Week number of academic year (1-40)\n    ACADEMIC_YEAR VARCHAR(20) DEFAULT '2024-2025',\n    TEST_STATUS VARCHAR(20) DEFAULT 'SCHEDULED',\n    CREATED_TIMESTAMP TIMESTAMP_NTZ DEFAULT CURRENT_TIMESTAMP()\n);\n\nCREATE TABLE IF NOT EXISTS STUDENT_QUESTION_RESPONSES (\n    RESPONSE_ID INTEGER AUTOINCREMENT PRIMARY KEY,\n    TEST_RESULT_ID INTEGER,\n    QUESTION_ID INTEGER,\n    STUDENT_ID INTEGER,\n    STUDENT_ANSWER CHAR(1),\n    CORRECT_ANSWER CHAR(1),\n    IS_CORRECT BOOLEAN,\n    RESPONSE_TIME_SECONDS INTEGER,\n    CHAPTER_NUMBER INTEGER,\n    DIFFICULTY_LEVEL VARCHAR(20),\n    TOPIC VARCHAR(200),\n    CREATED_AT TIMESTAMP DEFAULT CURRENT_TIMESTAMP()\n);\n\nCREATE DYNAMIC TABLE IF NOT EXISTS STUDENT_CHAPTER_TEST_RESULTS \n   TARGET_LAG = '10 minutes'\n   WAREHOUSE = WAREHOUSE_XL_G2\nAS\n    SELECT\n        STUDENT_ID,\n        CHAPTER_NUMBER,\n        COUNT(*) AS total_questions,\n        SUM(IFF(r.IS_CORRECT, 1, 0)) as correct_answers,\n        (correct_answers / total_questions) * 100 AS final_score_percent,\n        CASE \n        WHEN GREATEST(65, final_score_percent) >= 97 THEN 'A+'\n        WHEN GREATEST(65, final_score_percent) >= 93 THEN 'A'\n        WHEN GREATEST(65, final_score_percent) >= 90 THEN 'A-'\n        WHEN GREATEST(65, final_score_percent) >= 87 THEN 'B+'\n        WHEN GREATEST(65, final_score_percent) >= 83 THEN 'B'\n        WHEN GREATEST(65, final_score_percent) >= 80 THEN 'B-'\n        WHEN GREATEST(65, final_score_percent) >= 77 THEN 'C+'\n        WHEN GREATEST(65, final_score_percent) >= 73 THEN 'C'\n        WHEN GREATEST(65, final_score_percent) >= 70 THEN 'C-'\n        WHEN GREATEST(65, final_score_percent) >= 67 THEN 'D+'\n        WHEN GREATEST(65, final_score_percent) >= 65 THEN 'D'\n        ELSE 'F'\n    END as LETTER_GRADE\n    FROM\n        WORLD_HISTORY.SCHOOLS.STUDENT_QUESTION_RESPONSES r\n    GROUP BY\n        1, 2\n    ORDER BY\n        STUDENT_ID, CHAPTER_NUMBER;",
   "execution_count": null
  },
  {
   "cell_type": "code",
   "id": "c6a4575a-4ac7-4609-b390-017ebfae65ae",
   "metadata": {
    "language": "sql",
    "name": "cell6"
   },
   "outputs": [],
   "source": "--drop dynamic table student_chapter_test_results;",
   "execution_count": null
  },
  {
   "cell_type": "code",
   "id": "d52f7823-8487-43b7-8cd4-14e7250341d6",
   "metadata": {
    "language": "sql",
    "name": "school_calendar",
    "codeCollapsed": false
   },
   "outputs": [],
   "source": "CREATE OR REPLACE TEMPORARY TABLE academic_calendar AS\nWITH date_series AS (\n    SELECT \n        DATEADD(WEEK, ROW_NUMBER() OVER (ORDER BY NULL) - 1, '2025-08-05'::DATE) as week_start_date,\n        ROW_NUMBER() OVER (ORDER BY NULL) as week_number\n    FROM TABLE(GENERATOR(ROWCOUNT => 45)) -- Generate 45 weeks to cover full academic year\n),\nacademic_weeks AS (\n    SELECT \n        week_start_date,\n        week_number,\n        MONTH(week_start_date) as month_num,\n        CASE \n            WHEN week_start_date BETWEEN '2024-12-23' AND '2025-01-06' THEN 'Winter Break'\n            WHEN week_start_date BETWEEN '2025-03-10' AND '2025-03-17' THEN 'Spring Break'\n            WHEN week_start_date BETWEEN '2025-11-25' AND '2025-11-29' THEN 'Thanksgiving Break'\n            WHEN DAYOFWEEK(week_start_date) IN (1, 7) THEN 'Weekend'\n            ELSE 'Regular School Week'\n        END as week_type\n    FROM date_series\n    WHERE week_start_date <= '2026-06-15' -- End of academic year\n)\nSELECT \n    week_number,\n    week_start_date,\n    week_type,\n    -- Adjust to use school days (Tuesday-Thursday for testing)\n    DATEADD(DAY, 2, week_start_date) as suggested_test_date -- Wednesday of each week\nFROM academic_weeks\nWHERE week_type = 'Regular School Week'\nORDER BY week_number;\n\n-- Show academic calendar\nSELECT \n    week_number,\n    week_start_date,\n    suggested_test_date,\n    week_type\nFROM academic_calendar\nLIMIT 40;\n\n\nINSERT INTO TEST_SCHEDULE (\n    CLASS_ID, TEACHER_ID, SCHOOL_ID, CHAPTER_NUMBER, \n    SCHEDULED_DATE, SCHEDULED_WEEK\n)\nWITH all_classes AS (\n    SELECT \n        c.CLASS_ID,\n        c.TEACHER_ID,\n        c.SCHOOL_ID\n    FROM CLASSES c\n),\nchapter_sequence AS (\n    SELECT \n        ROW_NUMBER() OVER (ORDER BY NULL) as chapter_number\n    FROM TABLE(GENERATOR(ROWCOUNT => 32)) -- 32 chapters\n),\nclass_schedules AS (\n    SELECT \n        ac.CLASS_ID,\n        ac.TEACHER_ID,\n        ac.SCHOOL_ID,\n        cs.chapter_number,\n        -- Randomly assign starting week for each class, then sequential weekly spacing\n        LEAST(40, GREATEST(1, \n            (HASH(ac.CLASS_ID, ac.TEACHER_ID) % 8) + 1 + (cs.chapter_number - 1)\n        )) as assigned_week\n    FROM all_classes ac\n    CROSS JOIN chapter_sequence cs\n),\nscheduled_tests AS (\n    SELECT \n        cls.CLASS_ID,\n        cls.TEACHER_ID,\n        cls.SCHOOL_ID,\n        cls.chapter_number,\n        cls.assigned_week,\n        COALESCE(cal.suggested_test_date, \n                DATEADD(WEEK, cls.assigned_week - 1, '2024-08-07')\n        ) as scheduled_date\n    FROM class_schedules cls\n    LEFT JOIN academic_calendar cal ON cls.assigned_week = cal.week_number\n    WHERE cls.assigned_week <= 40 -- Ensure we don't exceed academic year\n)\nSELECT \n    CLASS_ID,\n    TEACHER_ID,\n    SCHOOL_ID,\n    chapter_number,\n    scheduled_date,\n    assigned_week\nFROM scheduled_tests\nWHERE scheduled_date IS NOT NULL;",
   "execution_count": null
  },
  {
   "cell_type": "code",
   "id": "85d1b5bc-26c7-4d5a-8118-1d65aa440a3b",
   "metadata": {
    "language": "sql",
    "name": "extract_questions_function"
   },
   "outputs": [],
   "source": "CREATE OR REPLACE FUNCTION extract_all_numbered_items(staged_file_path STRING)\nRETURNS STRING\nLANGUAGE PYTHON\nRUNTIME_VERSION = '3.12'\nPACKAGES = ('snowflake-snowpark-python', 'pypdf')\nHANDLER = 'extract_text'\nAS $$\nimport re\nimport json\nfrom pypdf import PdfReader\nfrom snowflake.snowpark.files import SnowflakeFile\n\ndef extract_text(staged_file_path: str) -> str:\n    try:\n        with SnowflakeFile.open(staged_file_path, 'rb') as f:\n            reader = PdfReader(f)\n            # Join pages with a newline to help regex anchors\n            full_text = \"\\n\".join(page.extract_text() or \"\" for page in reader.pages)\n        \n        # Use a simpler, more forgiving regex.\n        # It finds a number at the start of a line, captures it,\n        # and then captures all following text until the next numbered line or the end of the file.\n        # This is much more robust against formatting issues.\n        found_items = re.findall(r\"^(\\d+)\\.\\s(.*?)(?=\\n\\d+\\.\\s|\\Z)\", full_text, re.DOTALL | re.MULTILINE)\n        \n        # Simply format whatever is found into JSON. No more filtering here.\n        items_list = [{\"number\": int(num), \"text\": text.strip()} for num, text in found_items]\n        \n        return json.dumps(items_list)\n\n    except Exception:\n        # Return an empty JSON array on error to prevent downstream query failure.\n        return '[]'\n$$;",
   "execution_count": null
  },
  {
   "cell_type": "code",
   "id": "456e7793-bf62-4691-9830-7dd6555ed508",
   "metadata": {
    "language": "sql",
    "name": "cell11"
   },
   "outputs": [],
   "source": "CREATE OR REPLACE FUNCTION WORLD_HISTORY.SCHOOLS.EXTRACT_QUESTIONS(\"STAGED_FILE_PATH\" VARCHAR)\nRETURNS VARCHAR\nLANGUAGE PYTHON\nRUNTIME_VERSION = '3.12'\nPACKAGES = ('snowflake-snowpark-python','pypdf')\nHANDLER = 'extract_questions'\nAS '\nimport re\nimport json\nfrom pypdf import PdfReader\nfrom snowflake.snowpark.files import SnowflakeFile\n\ndef extract_questions(staged_file_path: str) -> str:\n    \"\"\"\n    Extracts numbered questions from a PDF file stored in a Snowflake stage.\n\n    Args:\n        staged_file_path: The path to the PDF file within a Snowflake stage.\n\n    Returns:\n        A JSON string representing a list of question objects,\n        each with a ''number'' and ''text'' key.\n    \"\"\"\n    try:\n        with SnowflakeFile.open(staged_file_path, ''rb'') as f:\n            reader = PdfReader(f)\n            full_text = \"\".join(page.extract_text() or \"\" for page in reader.pages)\n        \n        # Modified regex:\n        # (\\\\d+)      - Capturing group 1: one or more digits (the question number).\n        # \\\\.\\\\s       - A literal period followed by a space.\n        # (.*?)      - Capturing group 2: the question text (non-greedy).\n        # (?=...)    - Positive lookahead to stop at the next number or end of string.\n        found_questions = re.findall(r\"(\\\\d+)\\\\.\\\\s(.*?)(?=\\\\d+\\\\.\\\\s|\\\\Z)\", full_text, re.DOTALL)\n        \n        # Format the list of tuples [(''1'', ''text...''), (''2'', ''text...'')] into a list of dicts.\n        questions_list = [\n            {\"number\": int(number), \"text\": text.strip()}\n            for number, text in found_questions\n        ]\n        \n        # Return the list as a JSON string.\n        return json.dumps(questions_list)\n\n    except Exception as e:\n        return f\"Error processing file: {staged_file_path}. Details: {str(e)}\"\n';",
   "execution_count": null
  },
  {
   "cell_type": "code",
   "id": "48dab924-3ac0-402e-bc9e-ae726a9b8e4d",
   "metadata": {
    "language": "sql",
    "name": "extract_test_questions"
   },
   "outputs": [],
   "source": "WITH test_assessment_start_page AS (\n  SELECT\n    page_id,\n    chapter_number,\n    page_number\n  FROM\n    world_history.public.world_history_rag\n  WHERE\n    content_type = 'RawText' AND page_number IS NOT NULL AND text_content iLIKE '%STANDARDIZED TEST PRACTICE%' \n    -- and chapter_number like 23\n    -- limit 5\n), \nASSESSMENT_PAGES AS (\n    SELECT\n      f.value :: STRING AS file_path,\n      chapter_number,\n      page_number\n    FROM\n      test_assessment_start_page,\n      LATERAL FLATTEN(\n        input => ARRAY_CONSTRUCT(\n          '/pages/chap' || LPAD(chapter_number, 2, '0') || '_page' || LPAD(page_number, 4, '0') || '.pdf',\n          '/pages/chap' || LPAD(chapter_number, 2, '0') || '_page' || LPAD(page_number + 1, 4, '0') || '.pdf',\n          '/pages/chap' || LPAD(chapter_number, 2, '0') || '_page' || LPAD(page_number + 2, 4, '0') || '.pdf'\n        )\n      ) f\n)\n\nselect \n    ap.file_path,\n    extract_questions(BUILD_SCOPED_FILE_URL(@world_history.public.pdf_documents, ap.file_path)) as extracted_questions,\n    ap.chapter_number,\n    ap.page_number\nFROM\n    assessment_pages ap\nGROUP BY\n    1, 3, 4;\n",
   "execution_count": null
  },
  {
   "cell_type": "code",
   "id": "5e0c4967-8693-4254-a755-e5676700f00c",
   "metadata": {
    "language": "sql",
    "name": "chunk_test_questions"
   },
   "outputs": [],
   "source": "SELECT\n        eqc.file_path,\n        eqc.page_number,\n        eqc.chapter_number,\n        f.value:number::INT % 100 AS question_number,\n        f.value:text::STRING AS question_text\n    FROM\n        {{extract_test_questions}} eqc,\n        LATERAL FLATTEN(input => PARSE_JSON(eqc.extracted_questions)) f\n    WHERE\n        -- This WHERE clause is now the main filter for finding MCQs.\n        -- It's more robust to do this here than in the Python UDF.\n        -- Using LIKE without periods is slightly more forgiving.\n        question_text LIKE '%A %'\n        AND question_text LIKE '%B %'\n        AND question_text LIKE '%C %'\n        AND question_text LIKE '%D %'",
   "execution_count": null
  },
  {
   "cell_type": "code",
   "id": "ee5b5010-cb9b-4c03-b968-3afd26b969db",
   "metadata": {
    "language": "sql",
    "name": "parse_test_questions"
   },
   "outputs": [],
   "source": "\nSELECT\n    ctq.*,\n       try_parse_json(AI_COMPLETE(\n        'mixtral-8x7b',\n        'You are formatting test questions that have been extracted from a World History textbook page. \n        \n        TASK: Extract ALL multiple choice test questions from this textbook page, format it properly and supply the right answer.\n        \n        REQUIREMENTS:\n        1. Extract ONLY multiple choice questions (ignore essay, short answer, fill-in-the-blank)\n        2. Each question must have exactly 4 answer choices (A, B, C, D)\n        3. If the correct answer is provided, include it; if not, research the answer to find it.  Do not leave an answer blank or null.  If you cannot find an answer put \"C\"\n        4. Extract the topic/concept being tested based on other questions in the input.\n        5. Return results in this EXACT JSON format:\n        \n        {\n          \"extracted_questions\": [\n            {\n              \"question_text\": \"Which type of scientist uses fossils and artifacts to study early humans?\",\n              \"option_a\": \"Chemists\",\n              \"option_b\": \"Physicists\", \n              \"option_c\": \"Anthropologists\",\n              \"option_d\": \"Geologists\",\n              \"correct_answer\": \"C\",\n              \"topic\": \"Early Human Study\",\n              \"difficulty_level\": \"Medium\"\n            }\n          ],\n          \"extraction_notes\": \"Found X questions on page\",\n          \"page_info\": {\n            \"chapter_number\": ' || ctq.chapter_number || ',\n            \"page_number\": ' || ctq.page_number || ',\n            \"contains_test_questions\": true\n          }\n        }\n        \n        IMPORTANT RULES:\n        - Return ONLY valid JSON, no other text\n        - Use \"Easy\", \"Medium\", or \"Hard\" for difficulty_level\n        - If no test questions found, return empty array for extracted_questions\n        - If questions are incomplete or don\\'t have 4 options, skip them\n        - If any answers are more than one choice (eg \"C, D\"), skip them.  \n        - Extract the question text exactly as written, EXCEPT extract the specific options to the option_a, option_b, option_c or option_d field. Do NOT include the letter for the option in the value field. Ie if two of the potential anwsners are \"A Conscription\\nB War communism\\n\" then the JSON should only include the word that would fill in the blank => {\"option_a\": \"Conscription\", \"option_b\": \"War communism\"} \n        - If there is a fill in the blank (missing word), replace the empty space with \"_____\".\n\n        EXAMPLE:\n        INPUT TEXT: \"is the process of assembling troops and supplies to \\nget ready for war. \\nA Conscription\\nB War communism\\nC Armistice\\nD Mobilization\\n\"\n        DESIRED OUTPUT:\n            {\n              \"correct_answer\": \"D\",\n              \"difficulty_level\": \"Easy\",\n              \"option_a\": \"Conscription\",\n              \"option_b\": \"War communism\",\n              \"option_c\": \"Armistice\",\n              \"option_d\": \"Mobilization\",\n              \"question_number\": 3,\n              \"question_text\": \"_____ is the process of assembling troops and supplies to get ready for war.\",\n              \"topic\": \"War Preparation\"\n            },\n        \n        PAGE CONTENT:\n        ' || ctq.question_text\n    )) AS extraction_result\nFROM {{chunk_test_questions}} ctq",
   "execution_count": null
  },
  {
   "cell_type": "code",
   "id": "fcdb01f0-5c5c-4e1b-b224-9350a5359a72",
   "metadata": {
    "language": "sql",
    "name": "cell4"
   },
   "outputs": [],
   "source": "--delete from world_history_test_questions;",
   "execution_count": null
  },
  {
   "cell_type": "code",
   "id": "4bae3c36-2d17-4514-8271-182ecc4e762c",
   "metadata": {
    "language": "sql",
    "name": "insert_world_history_test_questions",
    "codeCollapsed": false
   },
   "outputs": [],
   "source": "INSERT INTO WORLD_HISTORY_TEST_QUESTIONS(\n    FILEPATH,\n    CHAPTER_NUMBER,\n    PAGE_NUMBER,\n    QUESTION_NUMBER,\n    QUESTION_TEXT,\n    OPTION_A,\n    OPTION_B,\n    OPTION_C,\n    OPTION_D,\n    CORRECT_ANSWER,\n    DIFFICULTY_LEVEL,\n    TOPIC\n)\n\nSELECT\n ptq.file_path,\n ptq.chapter_number,\n ptq.page_number,\n ptq.question_number,\n f.value:question_text as question_text,\n f.value:option_a as option_a,\n f.value:option_b as option_b,\n f.value:option_c as option_c,\n f.value:option_d as option_d,\n coalesce(f.value:correct_answer, 'C') as correct_answer,\n f.value:difficulty_level as difficulty_level,\n f.value:topic as topic,\nFROM {{parse_test_questions}} ptq,\n   LATERAL FLATTEN(input => ptq.extraction_result:extracted_questions) f",
   "execution_count": null
  },
  {
   "cell_type": "code",
   "id": "258d23d8-fc45-4859-be9c-1c1ad7c1ffe9",
   "metadata": {
    "language": "sql",
    "name": "cell3"
   },
   "outputs": [],
   "source": "delete from student_question_responses;",
   "execution_count": null
  },
  {
   "cell_type": "code",
   "id": "5fa7a3d0-1524-454d-b41d-8a27b33dd701",
   "metadata": {
    "language": "sql",
    "name": "cell10"
   },
   "outputs": [],
   "source": "-- This single INSERT statement generates and inserts all the mock student responses.\n-- It is designed to work with your table where RESPONSE_ID is AUTOINCREMENT\n-- and CREATED_AT has a DEFAULT value.\n\nINSERT INTO WORLD_HISTORY.SCHOOLS.STUDENT_QUESTION_RESPONSES (\n    TEST_RESULT_ID,\n    QUESTION_ID,\n    STUDENT_ID,\n    STUDENT_ANSWER,\n    CORRECT_ANSWER,\n    IS_CORRECT,\n    RESPONSE_TIME_SECONDS,\n    CHAPTER_NUMBER,\n    DIFFICULTY_LEVEL,\n    TOPIC\n)\nWITH\n-- CTE 1: Get a distinct list of all chapters that have questions.\nALL_CHAPTERS AS (\n    SELECT DISTINCT CHAPTER_NUMBER\n    FROM WORLD_HISTORY.SCHOOLS.WORLD_HISTORY_TEST_QUESTIONS\n),\n\n-- CTE 2: Assign a target score (65-100) for each student for each chapter.\nTARGET_SCORES AS (\n    SELECT\n        s.STUDENT_ID,\n        c.CHAPTER_NUMBER,\n        -- Generate a score from a normal distribution with mean=82.5, stddev=5\n        -- and clamp the result between 65 and 100.\n        LEAST(100.0, GREATEST(65.0, NORMAL(82.5, 5, RANDOM()))) AS TARGET_PERCENT_CORRECT\n    FROM\n        WORLD_HISTORY.SCHOOLS.STUDENTS s\n    CROSS JOIN\n        ALL_CHAPTERS c\n),\n\n-- CTE 3: Get all questions for each chapter and find the total question count.\nCHAPTER_QUESTIONS AS (\n    SELECT\n        CHAPTER_NUMBER,\n        QUESTION_ID,\n        CORRECT_ANSWER,\n        DIFFICULTY_LEVEL,\n        TOPIC,\n        COUNT(QUESTION_ID) OVER (PARTITION BY CHAPTER_NUMBER) AS TOTAL_QUESTIONS_IN_CHAPTER\n    FROM\n        WORLD_HISTORY.SCHOOLS.WORLD_HISTORY_TEST_QUESTIONS\n),\n\n-- CTE 4: Combine scores and questions, then randomly rank questions for each student's test.\nFINAL_RESPONSES AS (\n    SELECT\n        ts.STUDENT_ID,\n        cq.QUESTION_ID,\n        cq.CHAPTER_NUMBER,\n        cq.CORRECT_ANSWER,\n        cq.DIFFICULTY_LEVEL,\n        cq.TOPIC,\n        -- Assign a random rank to each question within a student's chapter test attempt\n        ROW_NUMBER() OVER (PARTITION BY ts.STUDENT_ID, ts.CHAPTER_NUMBER ORDER BY UNIFORM(0,1,RANDOM())) as random_rank,\n        -- Calculate the exact number of questions that should be correct based on the target score\n        ROUND(cq.TOTAL_QUESTIONS_IN_CHAPTER * ts.TARGET_PERCENT_CORRECT / 100) AS num_to_be_correct\n    FROM\n        TARGET_SCORES ts\n    JOIN\n        CHAPTER_QUESTIONS cq ON ts.CHAPTER_NUMBER = cq.CHAPTER_NUMBER\n)\n\n-- Final SELECT to format and insert the data\nSELECT\n    NULL AS TEST_RESULT_ID, -- Populated with NULL as it's a separate entity\n    fr.QUESTION_ID,\n    fr.STUDENT_ID,\n    -- If the answer is correct, student_answer is the correct answer. Otherwise, NULL.\n    IFF((fr.random_rank <= fr.num_to_be_correct), fr.CORRECT_ANSWER, NULL) AS STUDENT_ANSWER,\n    fr.CORRECT_ANSWER,\n    (fr.random_rank <= fr.num_to_be_correct) AS IS_CORRECT,\n    UNIFORM(15, 90, RANDOM()) AS RESPONSE_TIME_SECONDS, -- Random response time: 15-90s\n    fr.CHAPTER_NUMBER,\n    fr.DIFFICULTY_LEVEL,\n    fr.TOPIC\nFROM\n    FINAL_RESPONSES fr;\n",
   "execution_count": null
  },
  {
   "cell_type": "code",
   "id": "ce8a72e9-d905-41fd-9d1f-f186c2f634f1",
   "metadata": {
    "language": "sql",
    "name": "cell5",
    "codeCollapsed": false
   },
   "outputs": [],
   "source": "UPDATE\n  STUDENT_QUESTION_RESPONSES\nSET CORRECT_ANSWER = UPPER(CORRECT_ANSWER);\n\nUPDATE\n  STUDENT_QUESTION_RESPONSES\nSET\n  STUDENT_ANSWER = CASE UPPER(CORRECT_ANSWER)\n    WHEN 'A' THEN (\n      SELECT VALUE FROM TABLE(FLATTEN(INPUT => ['B', 'C', 'D']::ARRAY)) ORDER BY RANDOM() LIMIT 1\n    )\n    WHEN 'B' THEN (\n      SELECT VALUE FROM TABLE(FLATTEN(INPUT => ['A', 'C', 'D']::ARRAY)) ORDER BY RANDOM() LIMIT 1\n    )\n    WHEN 'C' THEN (\n      SELECT VALUE FROM TABLE(FLATTEN(INPUT => ['A', 'B', 'D']::ARRAY)) ORDER BY RANDOM() LIMIT 1\n    )\n    WHEN 'D' THEN (\n      SELECT VALUE FROM TABLE(FLATTEN(INPUT => ['A', 'B', 'C']::ARRAY)) ORDER BY RANDOM() LIMIT 1\n    )\n  END\n  WHERE\n  STUDENT_ANSWER IS NULL or STUDENT_ANSWER = '';",
   "execution_count": null
  },
  {
   "cell_type": "code",
   "id": "3be2bda4-878d-4e58-8d2b-2140d854ef15",
   "metadata": {
    "language": "sql",
    "name": "check_test_answers"
   },
   "outputs": [],
   "source": "-- test correct answer distribution\nSELECT\n    RESPONSE_ID,\n    CORRECT_ANSWER,\n    STUDENT_ANSWER\nFROM\n    WORLD_HISTORY.SCHOOLS.STUDENT_QUESTION_RESPONSES r\nWHERE STUDENT_ANSWER is null\nlimit 10;",
   "execution_count": null
  },
  {
   "cell_type": "markdown",
   "id": "24c4654c-bae5-4a35-b3f3-44d01436df50",
   "metadata": {
    "name": "cell9",
    "collapsed": false
   },
   "source": "# Upload Semantic Model"
  },
  {
   "cell_type": "code",
   "id": "b31efaaa-92fa-4a4d-ad6f-841b8ecd2742",
   "metadata": {
    "language": "sql",
    "name": "cell8"
   },
   "outputs": [],
   "source": "CREATE OR REPLACE STAGE WORLD_HISTORY.PUBLIC.CONFIG_FILES\n    ENCRYPTION = (TYPE = 'SNOWFLAKE_SSE')\n    DIRECTORY = (ENABLE = TRUE);",
   "execution_count": null
  },
  {
   "cell_type": "code",
   "id": "5ec30f5b-5938-47db-90b6-fb13e3617408",
   "metadata": {
    "language": "python",
    "name": "cell7"
   },
   "outputs": [],
   "source": "session = get_active_session()\n\n# 1. Define the path to your YAML file\nlocal_file_path = \"world_history_analytics.yaml\"\n\n# 2. Define the target stage\ntarget_stage = \"@WORLD_HISTORY.PUBLIC.CONFIG_FILES\"\n\n# 3. Use the put command to upload the file\nput_result = session.file.put(local_file_path, target_stage, auto_compress= False, overwrite=True)\n\n# Print the result to confirm the upload\nprint(f\"File uploaded successfully: {put_result[0].target} {put_result[0].status}\")",
   "execution_count": null
  }
 ]
}